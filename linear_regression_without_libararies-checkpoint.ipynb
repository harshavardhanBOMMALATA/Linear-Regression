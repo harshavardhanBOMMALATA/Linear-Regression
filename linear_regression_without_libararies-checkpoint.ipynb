{
 "cells": [
  {
   "cell_type": "code",
   "execution_count": 1,
   "id": "2edbfdd4-b289-4c99-ba64-38cf2c2203bb",
   "metadata": {},
   "outputs": [],
   "source": [
    "import pandas as pd\n",
    "import numpy as np"
   ]
  },
  {
   "cell_type": "markdown",
   "id": "9342c8ea-ce84-4215-9171-5c15b59233e8",
   "metadata": {},
   "source": [
    "# import data"
   ]
  },
  {
   "cell_type": "code",
   "execution_count": 3,
   "id": "3e9a21fd-827b-4e57-9180-cf6fb52476bd",
   "metadata": {},
   "outputs": [],
   "source": [
    "data=pd.read_csv(\"ml_salaries.csv\")"
   ]
  },
  {
   "cell_type": "markdown",
   "id": "52ee60bf-921f-4f7b-bb6e-2c62dd7fb398",
   "metadata": {},
   "source": [
    "# data exploartion"
   ]
  },
  {
   "cell_type": "code",
   "execution_count": 4,
   "id": "f69a171f-b002-4f93-a37a-de6572370376",
   "metadata": {},
   "outputs": [
    {
     "data": {
      "text/html": [
       "<div>\n",
       "<style scoped>\n",
       "    .dataframe tbody tr th:only-of-type {\n",
       "        vertical-align: middle;\n",
       "    }\n",
       "\n",
       "    .dataframe tbody tr th {\n",
       "        vertical-align: top;\n",
       "    }\n",
       "\n",
       "    .dataframe thead th {\n",
       "        text-align: right;\n",
       "    }\n",
       "</style>\n",
       "<table border=\"1\" class=\"dataframe\">\n",
       "  <thead>\n",
       "    <tr style=\"text-align: right;\">\n",
       "      <th></th>\n",
       "      <th>years_of_experience</th>\n",
       "      <th>salary</th>\n",
       "    </tr>\n",
       "  </thead>\n",
       "  <tbody>\n",
       "    <tr>\n",
       "      <th>0</th>\n",
       "      <td>5</td>\n",
       "      <td>3150</td>\n",
       "    </tr>\n",
       "    <tr>\n",
       "      <th>1</th>\n",
       "      <td>9</td>\n",
       "      <td>3787</td>\n",
       "    </tr>\n",
       "    <tr>\n",
       "      <th>2</th>\n",
       "      <td>4</td>\n",
       "      <td>2991</td>\n",
       "    </tr>\n",
       "    <tr>\n",
       "      <th>3</th>\n",
       "      <td>10</td>\n",
       "      <td>4551</td>\n",
       "    </tr>\n",
       "    <tr>\n",
       "      <th>4</th>\n",
       "      <td>8</td>\n",
       "      <td>3540</td>\n",
       "    </tr>\n",
       "    <tr>\n",
       "      <th>...</th>\n",
       "      <td>...</td>\n",
       "      <td>...</td>\n",
       "    </tr>\n",
       "    <tr>\n",
       "      <th>95</th>\n",
       "      <td>4</td>\n",
       "      <td>2884</td>\n",
       "    </tr>\n",
       "    <tr>\n",
       "      <th>96</th>\n",
       "      <td>4</td>\n",
       "      <td>2810</td>\n",
       "    </tr>\n",
       "    <tr>\n",
       "      <th>97</th>\n",
       "      <td>2</td>\n",
       "      <td>2488</td>\n",
       "    </tr>\n",
       "    <tr>\n",
       "      <th>98</th>\n",
       "      <td>7</td>\n",
       "      <td>3661</td>\n",
       "    </tr>\n",
       "    <tr>\n",
       "      <th>99</th>\n",
       "      <td>2</td>\n",
       "      <td>2496</td>\n",
       "    </tr>\n",
       "  </tbody>\n",
       "</table>\n",
       "<p>100 rows × 2 columns</p>\n",
       "</div>"
      ],
      "text/plain": [
       "    years_of_experience  salary\n",
       "0                     5    3150\n",
       "1                     9    3787\n",
       "2                     4    2991\n",
       "3                    10    4551\n",
       "4                     8    3540\n",
       "..                  ...     ...\n",
       "95                    4    2884\n",
       "96                    4    2810\n",
       "97                    2    2488\n",
       "98                    7    3661\n",
       "99                    2    2496\n",
       "\n",
       "[100 rows x 2 columns]"
      ]
     },
     "execution_count": 4,
     "metadata": {},
     "output_type": "execute_result"
    }
   ],
   "source": [
    "data"
   ]
  },
  {
   "cell_type": "code",
   "execution_count": 5,
   "id": "8c519c4a-ac3b-4533-bdb6-197b26a31793",
   "metadata": {},
   "outputs": [
    {
     "data": {
      "text/html": [
       "<div>\n",
       "<style scoped>\n",
       "    .dataframe tbody tr th:only-of-type {\n",
       "        vertical-align: middle;\n",
       "    }\n",
       "\n",
       "    .dataframe tbody tr th {\n",
       "        vertical-align: top;\n",
       "    }\n",
       "\n",
       "    .dataframe thead th {\n",
       "        text-align: right;\n",
       "    }\n",
       "</style>\n",
       "<table border=\"1\" class=\"dataframe\">\n",
       "  <thead>\n",
       "    <tr style=\"text-align: right;\">\n",
       "      <th></th>\n",
       "      <th>years_of_experience</th>\n",
       "      <th>salary</th>\n",
       "    </tr>\n",
       "  </thead>\n",
       "  <tbody>\n",
       "    <tr>\n",
       "      <th>0</th>\n",
       "      <td>5</td>\n",
       "      <td>3150</td>\n",
       "    </tr>\n",
       "    <tr>\n",
       "      <th>1</th>\n",
       "      <td>9</td>\n",
       "      <td>3787</td>\n",
       "    </tr>\n",
       "    <tr>\n",
       "      <th>2</th>\n",
       "      <td>4</td>\n",
       "      <td>2991</td>\n",
       "    </tr>\n",
       "    <tr>\n",
       "      <th>3</th>\n",
       "      <td>10</td>\n",
       "      <td>4551</td>\n",
       "    </tr>\n",
       "    <tr>\n",
       "      <th>4</th>\n",
       "      <td>8</td>\n",
       "      <td>3540</td>\n",
       "    </tr>\n",
       "    <tr>\n",
       "      <th>5</th>\n",
       "      <td>8</td>\n",
       "      <td>3881</td>\n",
       "    </tr>\n",
       "    <tr>\n",
       "      <th>6</th>\n",
       "      <td>1</td>\n",
       "      <td>2559</td>\n",
       "    </tr>\n",
       "    <tr>\n",
       "      <th>7</th>\n",
       "      <td>6</td>\n",
       "      <td>3269</td>\n",
       "    </tr>\n",
       "    <tr>\n",
       "      <th>8</th>\n",
       "      <td>3</td>\n",
       "      <td>2767</td>\n",
       "    </tr>\n",
       "    <tr>\n",
       "      <th>9</th>\n",
       "      <td>3</td>\n",
       "      <td>2978</td>\n",
       "    </tr>\n",
       "  </tbody>\n",
       "</table>\n",
       "</div>"
      ],
      "text/plain": [
       "   years_of_experience  salary\n",
       "0                    5    3150\n",
       "1                    9    3787\n",
       "2                    4    2991\n",
       "3                   10    4551\n",
       "4                    8    3540\n",
       "5                    8    3881\n",
       "6                    1    2559\n",
       "7                    6    3269\n",
       "8                    3    2767\n",
       "9                    3    2978"
      ]
     },
     "execution_count": 5,
     "metadata": {},
     "output_type": "execute_result"
    }
   ],
   "source": [
    "data.head(10)"
   ]
  },
  {
   "cell_type": "code",
   "execution_count": 6,
   "id": "b71c2153-51e3-47b0-b4c4-61b7d3b5834c",
   "metadata": {},
   "outputs": [
    {
     "data": {
      "text/plain": [
       "(100, 2)"
      ]
     },
     "execution_count": 6,
     "metadata": {},
     "output_type": "execute_result"
    }
   ],
   "source": [
    "data.shape"
   ]
  },
  {
   "cell_type": "code",
   "execution_count": 8,
   "id": "29b3f1c6-15b9-4d85-8fd0-8939726bc026",
   "metadata": {},
   "outputs": [
    {
     "data": {
      "text/plain": [
       "years_of_experience    0\n",
       "salary                 0\n",
       "dtype: int64"
      ]
     },
     "execution_count": 8,
     "metadata": {},
     "output_type": "execute_result"
    }
   ],
   "source": [
    "data.isna().sum()"
   ]
  },
  {
   "cell_type": "markdown",
   "id": "25d9ab5f-92ed-4e96-a2cf-5e39aa19ad7b",
   "metadata": {},
   "source": [
    "# we clean data also"
   ]
  },
  {
   "cell_type": "code",
   "execution_count": 10,
   "id": "b0394eaa-72d2-44bc-b92f-3d8bcd3311b5",
   "metadata": {},
   "outputs": [],
   "source": [
    "# y=mx+c\n",
    "# y is our output\n",
    "# m is slope\n",
    "# c means intercept"
   ]
  },
  {
   "cell_type": "code",
   "execution_count": 12,
   "id": "bfa6672d-1dec-4380-bf31-b01cba9d5956",
   "metadata": {},
   "outputs": [],
   "source": [
    "X=data[\"years_of_experience\"].values\n",
    "Y=data[\"salary\"].values"
   ]
  },
  {
   "cell_type": "code",
   "execution_count": 22,
   "id": "55042f04-48a6-4602-83c8-86b0c50c68c9",
   "metadata": {},
   "outputs": [
    {
     "name": "stdout",
     "output_type": "stream",
     "text": [
      "mean of x:  5.21\n",
      "mean of y:  3232.64\n"
     ]
    }
   ],
   "source": [
    "x_mean=X.mean()\n",
    "y_mean=Y.mean()\n",
    "\n",
    "print(\"mean of x: \",x_mean)\n",
    "print(\"mean of y: \",y_mean)"
   ]
  },
  {
   "cell_type": "code",
   "execution_count": 31,
   "id": "683a8546-55a7-4eee-82fe-198b523ef001",
   "metadata": {},
   "outputs": [
    {
     "name": "stdout",
     "output_type": "stream",
     "text": [
      "m : 194.6844617863109\n"
     ]
    }
   ],
   "source": [
    "#for m\n",
    "numerator=0\n",
    "denominator=0\n",
    "\n",
    "for i in range(len(X)):\n",
    "    temp=(X[i]-x_mean)*(Y[i]-y_mean)\n",
    "    numerator+=temp\n",
    "    temp=(X[i]-x_mean)**2\n",
    "    denominator+=temp\n",
    "    \n",
    "m=numerator/denominator\n",
    "print(\"m :\",m)"
   ]
  },
  {
   "cell_type": "code",
   "execution_count": 33,
   "id": "40687ce2-0c87-417e-8359-eb5c97e13abf",
   "metadata": {},
   "outputs": [
    {
     "name": "stdout",
     "output_type": "stream",
     "text": [
      "c : 2218.3339540933202\n"
     ]
    }
   ],
   "source": [
    "# for c\n",
    "#c=y-m*x\n",
    "# we use x_mean,y_mean instead of x,y\n",
    "\n",
    "c=y_mean-(m*x_mean)\n",
    "print(\"c :\",c)"
   ]
  },
  {
   "cell_type": "code",
   "execution_count": 41,
   "id": "98f25250-07b5-4b47-b3ac-8a1e03937b16",
   "metadata": {},
   "outputs": [
    {
     "name": "stdout",
     "output_type": "stream",
     "text": [
      "Predicted values:\n",
      "x   prediction   actual\n",
      "5   3191.76     3150\n",
      "9   3970.49     3787\n",
      "4   2997.07     2991\n",
      "10  4165.18     4551\n",
      "8   3775.81     3540\n",
      "8   3775.81     3881\n",
      "1   2413.02     2559\n",
      "6   3386.44     3269\n",
      "3   2802.39     2767\n",
      "3   2802.39     2978\n",
      "4   2997.07     2781\n",
      "3   2802.39     2632\n",
      "1   2413.02     2237\n",
      "7   3581.13     3281\n",
      "8   3775.81     3940\n",
      "7   3581.13     3467\n",
      "10  4165.18     4708\n",
      "1   2413.02     2328\n",
      "9   3970.49     4109\n",
      "4   2997.07     3286\n",
      "7   3581.13     3952\n",
      "5   3191.76     3417\n",
      "8   3775.81     3638\n",
      "6   3386.44     3289\n",
      "2   2607.70     2698\n",
      "8   3775.81     3357\n",
      "3   2802.39     2669\n",
      "6   3386.44     3253\n",
      "2   2607.70     2526\n",
      "4   2997.07     2922\n",
      "7   3581.13     3638\n",
      "8   3775.81     3906\n",
      "2   2607.70     2793\n",
      "5   3191.76     3099\n",
      "5   3191.76     3384\n",
      "7   3581.13     3819\n",
      "9   3970.49     4227\n",
      "2   2607.70     2844\n",
      "2   2607.70     2753\n",
      "7   3581.13     3561\n",
      "1   2413.02     2560\n",
      "5   3191.76     3256\n",
      "4   2997.07     2801\n",
      "6   3386.44     3409\n",
      "10  4165.18     4553\n",
      "2   2607.70     2669\n",
      "8   3775.81     3840\n",
      "2   2607.70     2841\n",
      "5   3191.76     3049\n",
      "6   3386.44     3751\n",
      "2   2607.70     2748\n",
      "2   2607.70     2762\n",
      "2   2607.70     2501\n",
      "1   2413.02     2389\n",
      "7   3581.13     3599\n",
      "8   3775.81     3751\n",
      "3   2802.39     2825\n",
      "7   3581.13     3442\n",
      "6   3386.44     3432\n",
      "6   3386.44     3335\n",
      "7   3581.13     3569\n",
      "4   2997.07     2749\n",
      "2   2607.70     2669\n",
      "10  4165.18     4033\n",
      "9   3970.49     3845\n",
      "9   3970.49     3632\n",
      "9   3970.49     3573\n",
      "6   3386.44     3435\n",
      "6   3386.44     3665\n",
      "6   3386.44     3054\n",
      "4   2997.07     3084\n",
      "6   3386.44     3588\n",
      "6   3386.44     3603\n",
      "5   3191.76     3070\n",
      "8   3775.81     3417\n",
      "7   3581.13     3575\n",
      "8   3775.81     3813\n",
      "2   2607.70     2644\n",
      "5   3191.76     3060\n",
      "2   2607.70     2497\n",
      "1   2413.02     2479\n",
      "4   2997.07     2923\n",
      "1   2413.02     2566\n",
      "6   3386.44     3483\n",
      "2   2607.70     2475\n",
      "9   3970.49     4135\n",
      "8   3775.81     3661\n",
      "4   2997.07     3215\n",
      "6   3386.44     3257\n",
      "4   2997.07     2781\n",
      "4   2997.07     2827\n",
      "6   3386.44     3134\n",
      "7   3581.13     3397\n",
      "2   2607.70     2672\n",
      "8   3775.81     3845\n",
      "4   2997.07     2884\n",
      "4   2997.07     2810\n",
      "2   2607.70     2488\n",
      "7   3581.13     3661\n",
      "2   2607.70     2496\n"
     ]
    }
   ],
   "source": [
    "# Predict values using y = mx + c\n",
    "predict = []\n",
    "for i in X:\n",
    "    temp = m * i + c\n",
    "    predict.append(temp)\n",
    "\n",
    "print(\"Predicted values:\")\n",
    "print(\"x   prediction   actual\")\n",
    "for i in range(len(X)):\n",
    "    print(f\"{X[i]:<3} {predict[i]:<11.2f} {Y[i]}\")\n"
   ]
  },
  {
   "cell_type": "code",
   "execution_count": 47,
   "id": "b5dc4ec1-fa5f-4cb9-aa20-3cc8a92296d2",
   "metadata": {},
   "outputs": [
    {
     "name": "stdout",
     "output_type": "stream",
     "text": [
      "rsquared : 0.8805\n"
     ]
    }
   ],
   "source": [
    "# we want to know rsquared\n",
    "# r2=1-ssr/sst\n",
    "# ssr=yactual-yprediction\n",
    "# sst=yactual-ymean\n",
    "\n",
    "ssr=0\n",
    "sst=0\n",
    "\n",
    "for i in range(len(X)):\n",
    "    ssr+=(Y[i]-predict[i])**2\n",
    "    sst+=(Y[i]-y_mean)**2\n",
    "\n",
    "r2=1-(ssr/sst)\n",
    "print(\"rsquared :\",round(r2,4))"
   ]
  },
  {
   "cell_type": "code",
   "execution_count": 49,
   "id": "575105cb-8f14-4685-979e-183b2eb436c2",
   "metadata": {},
   "outputs": [
    {
     "name": "stdout",
     "output_type": "stream",
     "text": [
      "Adjusted R-squared: 0.8793\n"
     ]
    }
   ],
   "source": [
    "# adjustedr2=1-((1-r2)(n-1))/(n-k-1)\n",
    "n = len(X)\n",
    "k = 1  # since you're using simple linear regression\n",
    "\n",
    "adjusted_r2 = 1 - ((1 - r2) * (n - 1)) / (n - k - 1)\n",
    "print(\"Adjusted R-squared:\", round(adjusted_r2, 4))\n"
   ]
  },
  {
   "cell_type": "markdown",
   "id": "2d2fbdf2-a80d-46d9-80f6-660e5b71e2be",
   "metadata": {},
   "source": [
    "# plotting"
   ]
  },
  {
   "cell_type": "code",
   "execution_count": 66,
   "id": "f7c0b311-b88e-48cf-9b24-48a91b7a2ce4",
   "metadata": {},
   "outputs": [
    {
     "data": {
      "image/png": "[encoded data removed]",
      "text/plain": [
       "<Figure size 640x480 with 1 Axes>"
      ]
     },
     "metadata": {},
     "output_type": "display_data"
    }
   ],
   "source": [
    "import matplotlib.pyplot as plt\n",
    "\n",
    "xaxis = X[:5]\n",
    "yaxis = Y[:5]\n",
    "yprediction = predict[:5]\n",
    "\n",
    "x_mean = sum(xaxis) / len(xaxis)\n",
    "y_mean = sum(yaxis) / len(yaxis)\n",
    "\n",
    "# Actual data points\n",
    "plt.scatter(xaxis, yaxis, color='blue', label='Actual Y', marker='o')\n",
    "\n",
    "# Prediction points and line\n",
    "plt.scatter(xaxis, yprediction, color='green', marker='p', label='Predicted Y')\n",
    "plt.plot(xaxis, yprediction, color='orange', linestyle='--', label='Prediction Line')\n",
    "\n",
    "# Mean lines\n",
    "plt.axvline(x=x_mean, color='red', linestyle='--', label='X Mean')\n",
    "plt.axhline(y=y_mean, color='green', linestyle='--', label='Y Mean')\n",
    "\n",
    "# Labels and grid\n",
    "plt.xlabel(\"X\")\n",
    "plt.ylabel(\"Y\")\n",
    "plt.title(\"Actual vs Predicted with Mean Lines\")\n",
    "plt.legend()\n",
    "plt.grid(True)\n",
    "plt.show()"
   ]
  },
  {
   "cell_type": "code",
   "execution_count": null,
   "id": "efccac75-1f1c-4cb4-80a6-03d3e0e736e2",
   "metadata": {},
   "outputs": [],
   "source": []
  }
 ],
 "metadata": {
  "kernelspec": {
   "display_name": "Python 3 (ipykernel)",
   "language": "python",
   "name": "python3"
  },
  "language_info": {
   "codemirror_mode": {
    "name": "ipython",
    "version": 3
   },
   "file_extension": ".py",
   "mimetype": "text/x-python",
   "name": "python",
   "nbconvert_exporter": "python",
   "pygments_lexer": "ipython3",
   "version": "3.13.5"
  }
 },
 "nbformat": 4,
 "nbformat_minor": 5
}
